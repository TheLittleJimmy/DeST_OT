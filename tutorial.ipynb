{
 "cells": [
  {
   "cell_type": "code",
   "execution_count": 1,
   "id": "f0e2edd0",
   "metadata": {},
   "outputs": [],
   "source": [
    "%load_ext autoreload\n",
    "%autoreload 2"
   ]
  },
  {
   "cell_type": "code",
   "execution_count": 2,
   "id": "4016a76e",
   "metadata": {},
   "outputs": [],
   "source": [
    "import scanpy as sc\n",
    "import matplotlib.pyplot as plt\n",
    "\n",
    "from src.destot.DESTOT import align, xi_to_growth_rate\n",
    "from src.destot.metrics import growth_distortion_metric, migration_metric\n",
    "\n",
    "def plot_slice_value(slice, value_vec, vmax=None, vmin=None):\n",
    "    \"\"\"\n",
    "    Parameters: \n",
    "    slice: AnnData object of the slice\n",
    "    value_vec: growth vector\n",
    "\n",
    "    Returns:\n",
    "    Plots the slice with each spot colored according to its value in value_vec\n",
    "    \"\"\"\n",
    "    plt.figure()\n",
    "    spatial = slice.obsm['spatial']\n",
    "    sc = plt.scatter(spatial[:, 0], spatial[:, 1], c=value_vec, cmap='RdYlGn', s=50, vmin=vmin, vmax=vmax)\n",
    "    cbar = plt.colorbar(sc)\n",
    "    cbar.ax.tick_params(labelsize=20)\n",
    "    plt.gca().invert_yaxis()\n",
    "    plt.axis('off')\n",
    "\n",
    "    fig = plt.gcf()\n",
    "    fig_size = fig.get_size_inches()\n",
    "    new_width = 20.0\n",
    "    new_height = new_width * (fig_size[1] / fig_size[0])\n",
    "    fig.set_size_inches(new_width, new_height)\n",
    "    plt.show()\n",
    "    return"
   ]
  },
  {
   "cell_type": "markdown",
   "id": "e54b05af",
   "metadata": {},
   "source": [
    "# Loading the Axolotl Telencephalon Slice Pair\n",
    "\n",
    "The source for the stage 54 and stage 57 embryonic development datasets is https://db.cngb.org/stomics/artista/download/ under the file names Stage54.h5ad and Stage57.h5ad, which can be downloaded directly from the portal.\n",
    "\n",
    "Alternatively, you can specify your directory of choice in the terminal and run the commands:\n",
    "\n",
    "`wget https://ftp.cngb.org/pub/SciRAID/stomics/STDS0000056/stomics/Stage54.h5ad target_directory`\n",
    "\n",
    "`wget https://ftp.cngb.org/pub/SciRAID/stomics/STDS0000056/stomics/Stage57.h5ad target_directory`"
   ]
  },
  {
   "cell_type": "code",
   "execution_count": 3,
   "id": "62db535a",
   "metadata": {},
   "outputs": [],
   "source": [
    "target_directory = '/home/ph3641/TDA/axolotl/'\n",
    "\n",
    "slice_54 = sc.read_h5ad(target_directory+'Stage54.h5ad')\n",
    "slice_57 = sc.read_h5ad(target_directory+'Stage57.h5ad')"
   ]
  },
  {
   "cell_type": "markdown",
   "id": "3faaff38",
   "metadata": {},
   "source": [
    "Our method assumes the two input AnnData objects have its gene expression count matrix stored in the `.X` field, while in this dataset they are stored in `.layers['counts']`. If one's AnnData object assumes a different key, one can easily change the reference to move the count matrix to `.X`."
   ]
  },
  {
   "cell_type": "code",
   "execution_count": 4,
   "id": "d696a4b6",
   "metadata": {},
   "outputs": [],
   "source": [
    "slice_54.X = slice_54.layers['counts']\n",
    "slice_57.X = slice_57.layers['counts']"
   ]
  },
  {
   "cell_type": "markdown",
   "id": "aacc7f77",
   "metadata": {},
   "source": [
    "The function `align` is the main function for running DeST-OT on a pair of AnnData objects. If one has the cost matrices precomputed in pytorch, one can directly call `destot_opt.LogSinkhorn_iteration` to return an alignment."
   ]
  },
  {
   "cell_type": "code",
   "execution_count": null,
   "id": "9d5fe7da",
   "metadata": {},
   "outputs": [
    {
     "name": "stderr",
     "output_type": "stream",
     "text": [
      "/home/ph3641/.conda/envs/peterenv2/lib/python3.10/site-packages/anndata/_core/anndata.py:1113: FutureWarning: is_categorical_dtype is deprecated and will be removed in a future version. Use isinstance(dtype, CategoricalDtype) instead\n",
      "  if not is_categorical_dtype(df_full[k]):\n",
      "/home/ph3641/.conda/envs/peterenv2/lib/python3.10/site-packages/anndata/_core/anndata.py:1113: FutureWarning: is_categorical_dtype is deprecated and will be removed in a future version. Use isinstance(dtype, CategoricalDtype) instead\n",
      "  if not is_categorical_dtype(df_full[k]):\n",
      "/home/ph3641/.conda/envs/peterenv2/lib/python3.10/site-packages/anndata/_core/merge.py:217: FutureWarning: is_categorical_dtype is deprecated and will be removed in a future version. Use isinstance(dtype, CategoricalDtype) instead\n",
      "  if pd.api.types.is_categorical_dtype(dtype):\n",
      "/home/ph3641/.conda/envs/peterenv2/lib/python3.10/site-packages/anndata/_core/anndata.py:1838: UserWarning: Observation names are not unique. To make them unique, call `.obs_names_make_unique`.\n",
      "  utils.warn_names_duplicates(\"obs\")\n"
     ]
    },
    {
     "name": "stdout",
     "output_type": "stream",
     "text": [
      "Iteration: 0\n",
      "Iteration: 5\n",
      "Iteration: 10\n",
      "Iteration: 15\n",
      "Iteration: 20\n",
      "Iteration: 25\n",
      "Iteration: 30\n",
      "Iteration: 35\n",
      "Iteration: 40\n",
      "Iteration: 45\n"
     ]
    }
   ],
   "source": [
    "Pi, xi = align(slice_54, slice_57, alpha=0.2, gamma=50, epsilon=0.1, max_iter=100, \n",
    "               balanced=False, use_gpu=False, normalize_xi=True, check_convergence=False)"
   ]
  },
  {
   "cell_type": "code",
   "execution_count": null,
   "id": "d960707e",
   "metadata": {
    "scrolled": true
   },
   "outputs": [],
   "source": [
    "plot_slice_value(slice_54, xi)"
   ]
  },
  {
   "cell_type": "markdown",
   "id": "162e2d43",
   "metadata": {},
   "source": [
    "# Metrics:\n",
    "\n",
    "DeST-OT quantifies two metrics for assessing the biological plausibility of a _spatiotemporal_ alignment, the _growth-distortion metric_ and the _migration metric_. \n",
    "\n",
    "- The growth-distortion metric, denoted $\\mathcal{J}_{\\textrm{growth}}(\\xi)$, quantifies the accuracy of the growth-rates learned from the alignment $\\Pi$ using a ground-truth partition of the cell-types returned from any clustering algorithm.\n",
    "\n",
    "\n",
    "- The migration metric, denoted $\\mathcal{J}_{\\textrm{migration}}(\\Pi)$, quantifies the amount of spatial migration (distance travelled) by ancestor cells to their descendants under an alignment\n",
    "\n",
    "One can easily compute the migration metric or growth-distortion metric for any alignment $\\Pi$. This alignment can come from any spatiotemporal alignment method."
   ]
  },
  {
   "cell_type": "code",
   "execution_count": null,
   "id": "f22ca61f",
   "metadata": {},
   "outputs": [],
   "source": [
    "print(f'The cell migration distance between stage 54 and 57 is: {migration_metric(slice_54, slice_57, Pi)}')"
   ]
  },
  {
   "cell_type": "markdown",
   "id": "33008ce7",
   "metadata": {},
   "source": [
    "There are two options for computing the growth rate distortion.\n",
    "\n",
    "- A growth-rate distortion assuming diagonal transitions (i.e. that cells do not transition between types, as might be the case in non-developmental processes). This can be set with the argument `option=\"no_transition\"`.\n",
    "\n",
    "\n",
    "- The growth-rate distortion which the lowest possible under _any_ cell type transition. This option depends on the transition matrix which most accurately reflects the observed growth rates. This can be set with the argument `option=\"infer_transition\"` $-$ we use this as a default and suggest this setting."
   ]
  },
  {
   "cell_type": "code",
   "execution_count": null,
   "id": "ba0bf918",
   "metadata": {},
   "outputs": [],
   "source": [
    "print(f'The growth-rate distortion of the DeST-OT alignment is: {growth_distortion_metric(slice_54, slice_57, Pi, annotation_key=\"Annotation\")}')"
   ]
  },
  {
   "cell_type": "code",
   "execution_count": null,
   "id": "fb21e16a",
   "metadata": {},
   "outputs": [],
   "source": [
    "import numpy as np\n",
    "\n",
    "plt.rcParams[\"figure.figsize\"] = [6.50, 6.50]\n",
    "plt.rcParams[\"figure.autolayout\"] = True\n",
    "plt.rcParams['figure.dpi'] = 300\n",
    "\n",
    "print(xi)\n",
    "\n",
    "N1 = xi.shape[0]\n",
    "Js = np.log(N1*xi + 1)\n",
    "print(np.min(Js))"
   ]
  },
  {
   "cell_type": "code",
   "execution_count": null,
   "id": "c558ec9f",
   "metadata": {},
   "outputs": [],
   "source": [
    "Js = xi_to_growth_rate(xi, t1=54, t2=57, normalize_xi=True)\n",
    "\n",
    "plt.hist(Js, bins=100)\n",
    "plt.axvline(x=0, c='r', label='Line Separating Growth ($J_{i} > 0$) from Death ($J_{i} < 0$)')\n",
    "plt.xlabel('Growth Rates $J_{i}$ in units of $\\mathrm{Stage}^{-1}$')\n",
    "plt.legend()\n",
    "plt.show()\n",
    "\n",
    "plt.hist(xi, bins=100)\n",
    "plt.axvline(x=0, c='r', label=r'Line Separating Growth ($\\mathbf{\\xi}_{i} > 0$) from Death ($\\mathbf{\\xi}_{i} < 0$)')\n",
    "plt.xlabel(r'Growth $\\mathbf{\\xi}_{i}$ in units of Descendant Cells between the two time-points')\n",
    "plt.legend()\n",
    "plt.show()"
   ]
  },
  {
   "cell_type": "code",
   "execution_count": null,
   "id": "fa26feca",
   "metadata": {},
   "outputs": [],
   "source": []
  }
 ],
 "metadata": {
  "kernelspec": {
   "display_name": "peterenv2 [~/.conda/envs/peterenv2/]",
   "language": "python",
   "name": "conda_peterenv2"
  },
  "language_info": {
   "codemirror_mode": {
    "name": "ipython",
    "version": 3
   },
   "file_extension": ".py",
   "mimetype": "text/x-python",
   "name": "python",
   "nbconvert_exporter": "python",
   "pygments_lexer": "ipython3",
   "version": "3.10.9"
  }
 },
 "nbformat": 4,
 "nbformat_minor": 5
}
